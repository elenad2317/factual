{
 "cells": [
  {
   "cell_type": "code",
   "execution_count": 32,
   "metadata": {
    "collapsed": false
   },
   "outputs": [],
   "source": [
    "from lxml import html\n",
    "import requests\n",
    "import re"
   ]
  },
  {
   "cell_type": "code",
   "execution_count": 76,
   "metadata": {
    "collapsed": true
   },
   "outputs": [],
   "source": [
    "chego = requests.get('http://www.yelp.com/biz/chego-los-angeles-5')\n",
    "salt_and_straw = requests.get('http://www.yelp.com/biz/salt-and-straw-los-angeles?osq=Salt+%26+Straw')\n",
    "smitty = requests.get('http://www.yelp.com/biz/smittys-famous-fish-and-chicken-culver-city')\n",
    "zankou = requests.get('http://www.yelp.com/biz/zankou-chicken-los-angeles-7?osq=zankou+chicken')\n",
    "ambala = requests.get('http://www.yelp.com/biz/ambala-dhaba-artesia-2')\n",
    "colony = requests.get('http://www.yelp.com/biz/the-colony-cafe-los-angeles')"
   ]
  },
  {
   "cell_type": "code",
   "execution_count": 89,
   "metadata": {
    "collapsed": false
   },
   "outputs": [],
   "source": [
    "def test_regex(r): \n",
    "    for i in [chego, salt_and_straw, smitty, zankou, ambala, colony]: \n",
    "        x = re.search(r, i.content)\n",
    "        print x.group(0)"
   ]
  },
  {
   "cell_type": "markdown",
   "metadata": {},
   "source": [
    "Regex 1: Address"
   ]
  },
  {
   "cell_type": "code",
   "execution_count": 93,
   "metadata": {
    "collapsed": false
   },
   "outputs": [
    {
     "name": "stdout",
     "output_type": "stream",
     "text": [
      "727 N Broadway, Los Angeles, CA 90012\n",
      "240 N Larchmont Blvd, Los Angeles, CA 90004\n",
      "9032 Venice Blvd, Culver City, CA 90232\n",
      "7851 W Sunset Blvd, Los Angeles, CA 90046\n",
      "17631 Pioneer Blvd, Artesia, CA 90701\n",
      "10937 W Pico Blvd, Los Angeles, CA 90064\n"
     ]
    }
   ],
   "source": [
    "test_regex('\\d.+[C][A].+[9]\\d{4}')"
   ]
  },
  {
   "cell_type": "markdown",
   "metadata": {},
   "source": [
    "Regex 2: Phone number"
   ]
  },
  {
   "cell_type": "code",
   "execution_count": 124,
   "metadata": {
    "collapsed": false
   },
   "outputs": [
    {
     "name": "stdout",
     "output_type": "stream",
     "text": [
      "(323) 380-8680\n",
      "(323) 466-0485\n",
      "(310) 815-1029\n",
      "(323) 882-6365\n",
      "(562) 402-7990\n",
      "(310) 470-8909\n"
     ]
    }
   ],
   "source": [
    "test_regex('\\(\\d{3}.+')"
   ]
  },
  {
   "cell_type": "markdown",
   "metadata": {},
   "source": [
    "Regex 3: Rating "
   ]
  },
  {
   "cell_type": "code",
   "execution_count": 103,
   "metadata": {
    "collapsed": false
   },
   "outputs": [
    {
     "name": "stdout",
     "output_type": "stream",
     "text": [
      "4.0 star rating\n",
      "4.5 star rating\n",
      "3.0 star rating\n",
      "4.0 star rating\n",
      "3.5 star rating\n",
      "3.5 star rating\n"
     ]
    }
   ],
   "source": [
    "test_regex('\\d\\..+.+star rating')"
   ]
  },
  {
   "cell_type": "markdown",
   "metadata": {},
   "source": [
    "Regex 4: Note I'm not sure of all the possible price ratings but this seems to encompass all possibilities for the restaurants that you used"
   ]
  },
  {
   "cell_type": "code",
   "execution_count": 139,
   "metadata": {
    "collapsed": false
   },
   "outputs": [
    {
     "name": "stdout",
     "output_type": "stream",
     "text": [
      "Under $10\n",
      "Moderate\n",
      "Under $10\n",
      "Moderate\n",
      "$11-30\n",
      "$11-30\n"
     ]
    }
   ],
   "source": [
    "test_regex('Under \\$.+|\\$\\d{2}-\\d{2}|Moderate')"
   ]
  },
  {
   "cell_type": "markdown",
   "metadata": {},
   "source": [
    "Regex 5: "
   ]
  },
  {
   "cell_type": "code",
   "execution_count": 202,
   "metadata": {
    "collapsed": false
   },
   "outputs": [
    {
     "name": "stdout",
     "output_type": "stream",
     "text": [
      "1087 reviews\n",
      "1184 reviews\n",
      "126 reviews\n",
      "169 reviews\n",
      "40 reviews\n",
      "203 reviews\n"
     ]
    }
   ],
   "source": [
    "test_regex('\\d.+reviews')"
   ]
  },
  {
   "cell_type": "markdown",
   "metadata": {},
   "source": [
    "Regex 6: Hours- easy to parse once matchedd"
   ]
  },
  {
   "cell_type": "code",
   "execution_count": 230,
   "metadata": {
    "collapsed": false
   },
   "outputs": [
    {
     "name": "stdout",
     "output_type": "stream",
     "text": [
      "11:00 am</span> - <span class=\"nowrap\">11:00\n",
      "11:00 am</span> - <span class=\"nowrap\">11:00\n",
      "11:00 am</span> - <span class=\"nowrap\">9:00\n",
      "10:00 am</span> - <span class=\"nowrap\">11:00\n",
      "has closed\n",
      "has closed\n"
     ]
    }
   ],
   "source": [
    "test_regex('\\d.+\\d [a|p]m.+-.+\\d|has closed')"
   ]
  },
  {
   "cell_type": "markdown",
   "metadata": {},
   "source": [
    "Regex 7: A little parsing required but either is closed or gives you the health inspection score"
   ]
  },
  {
   "cell_type": "code",
   "execution_count": 249,
   "metadata": {
    "collapsed": false
   },
   "outputs": [
    {
     "name": "stdout",
     "output_type": "stream",
     "text": [
      "                    <div class=\"score-block\">\n",
      "                        A\n",
      "                    <div class=\"score-block\">\n",
      "                        A\n",
      "                    <div class=\"score-block\">\n",
      "                        A\n",
      "                    <div class=\"score-block\">\n",
      "                        A\n",
      "has closed\n",
      "has closed\n"
     ]
    }
   ],
   "source": [
    "test_regex('.+score-block.+\\n.+|has closed')"
   ]
  },
  {
   "cell_type": "code",
   "execution_count": null,
   "metadata": {
    "collapsed": true
   },
   "outputs": [],
   "source": []
  }
 ],
 "metadata": {
  "kernelspec": {
   "display_name": "Python 2",
   "language": "python",
   "name": "python2"
  },
  "language_info": {
   "codemirror_mode": {
    "name": "ipython",
    "version": 2
   },
   "file_extension": ".py",
   "mimetype": "text/x-python",
   "name": "python",
   "nbconvert_exporter": "python",
   "pygments_lexer": "ipython2",
   "version": "2.7.10"
  }
 },
 "nbformat": 4,
 "nbformat_minor": 0
}
